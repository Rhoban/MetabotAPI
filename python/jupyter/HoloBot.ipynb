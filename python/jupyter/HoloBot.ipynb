{
 "cells": [
  {
   "cell_type": "markdown",
   "metadata": {},
   "source": [
    "# Holobot API\n",
    "\n",
    "Cette feuille de travail est dédiée à l'apprentissage du contrôle du HoloBot en python."
   ]
  },
  {
   "cell_type": "markdown",
   "metadata": {},
   "source": [
    "Avant toute chose, on importe la bibliothèque `holobot` qui contient le code nécessaire au pilotage du robot. Exécutez la cellule suivante."
   ]
  },
  {
   "cell_type": "code",
   "execution_count": 1,
   "metadata": {},
   "outputs": [],
   "source": [
    "import holo_header\n",
    "from holobot import Holobot"
   ]
  },
  {
   "cell_type": "markdown",
   "metadata": {},
   "source": [
    "Le pilotage du robot passe par un objet de type `Holobot`. Créer une instance de cet objet revient à se connecter au robot. Pour cela, il faut fournir le port. Ici `/dev/rfcomm0`, ainsi que la vitesse de communication, le *baudrate*, ici 115200 bauds:"
   ]
  },
  {
   "cell_type": "code",
   "execution_count": 2,
   "metadata": {},
   "outputs": [],
   "source": [
    "holo = Holobot('/dev/rfcomm0', 115200)"
   ]
  },
  {
   "cell_type": "markdown",
   "metadata": {},
   "source": [
    "Pour vérifier que l'on est bien connecté au robot. Le code suivant émet 2 bip courts à 2 tonalités différentes séparées d'une octave. Testez-le. Si "
   ]
  },
  {
   "cell_type": "code",
   "execution_count": 17,
   "metadata": {},
   "outputs": [],
   "source": [
    "import time\n",
    "\n",
    "holo.beep(880, 200)\n",
    "time.sleep(0.2)\n",
    "holo.beep(440, 200)"
   ]
  },
  {
   "cell_type": "code",
   "execution_count": 4,
   "metadata": {},
   "outputs": [],
   "source": [
    "speed = -50\n",
    "angle = 0"
   ]
  },
  {
   "cell_type": "code",
   "execution_count": 15,
   "metadata": {},
   "outputs": [],
   "source": [
    "holo.move_toward(speed, angle)\n",
    "time.sleep(1.0)\n",
    "holo.stop_all()"
   ]
  },
  {
   "cell_type": "code",
   "execution_count": 6,
   "metadata": {},
   "outputs": [],
   "source": [
    "speed = 20\n",
    "holo.control(0,0,speed)\n",
    "time.sleep(1)\n",
    "holo.stop_all()"
   ]
  },
  {
   "cell_type": "code",
   "execution_count": 7,
   "metadata": {},
   "outputs": [],
   "source": [
    "rot = 10\n",
    "holo.turn(rot)\n",
    "time.sleep(1)\n",
    "holo.stop_all()"
   ]
  },
  {
   "cell_type": "code",
   "execution_count": 13,
   "metadata": {},
   "outputs": [
    {
     "name": "stdout",
     "output_type": "stream",
     "text": [
      "13.300000190734863\n"
     ]
    }
   ],
   "source": [
    "d = holo.get_dist()\n",
    "print(d)"
   ]
  },
  {
   "cell_type": "code",
   "execution_count": 11,
   "metadata": {},
   "outputs": [
    {
     "name": "stdout",
     "output_type": "stream",
     "text": [
      "dist: 16.0cm\n",
      "dist: 16.299999237060547cm\n",
      "dist: 24.0cm\n",
      "dist: 25.700000762939453cm\n",
      "dist: 22.700000762939453cm\n",
      "dist: 22.799999237060547cm\n",
      "dist: 15.5cm\n",
      "dist: 34.70000076293945cm\n",
      "dist: 40.900001525878906cm\n",
      "dist: 41.20000076293945cm\n",
      "done.\n"
     ]
    }
   ],
   "source": [
    "while True:\n",
    "    try:\n",
    "        time.sleep(1)\n",
    "        d = holo.get_dist()\n",
    "        print(\"dist: \" + str(d) + \"cm\")\n",
    "    except KeyboardInterrupt:\n",
    "        print('done.')\n",
    "        break"
   ]
  },
  {
   "cell_type": "code",
   "execution_count": null,
   "metadata": {},
   "outputs": [],
   "source": []
  }
 ],
 "metadata": {
  "kernelspec": {
   "display_name": "Python 3",
   "language": "python",
   "name": "python3"
  },
  "language_info": {
   "codemirror_mode": {
    "name": "ipython",
    "version": 3
   },
   "file_extension": ".py",
   "mimetype": "text/x-python",
   "name": "python",
   "nbconvert_exporter": "python",
   "pygments_lexer": "ipython3",
   "version": "3.5.3"
  }
 },
 "nbformat": 4,
 "nbformat_minor": 2
}
