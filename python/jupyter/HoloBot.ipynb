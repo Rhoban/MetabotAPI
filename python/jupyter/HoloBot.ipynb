{
 "cells": [
  {
   "cell_type": "code",
   "execution_count": 1,
   "metadata": {},
   "outputs": [],
   "source": [
    "import holo_header\n",
    "import time\n",
    "from holobot import Holobot"
   ]
  },
  {
   "cell_type": "code",
   "execution_count": 2,
   "metadata": {},
   "outputs": [],
   "source": [
    "holo = Holobot('/dev/holobot', 115200)"
   ]
  },
  {
   "cell_type": "code",
   "execution_count": 3,
   "metadata": {},
   "outputs": [],
   "source": [
    "holo.beep(880, 200)\n",
    "time.sleep(0.2)\n",
    "holo.beep(440, 200)"
   ]
  },
  {
   "cell_type": "code",
   "execution_count": 4,
   "metadata": {},
   "outputs": [],
   "source": [
    "speed = -50\n",
    "angle = 0"
   ]
  },
  {
   "cell_type": "code",
   "execution_count": 5,
   "metadata": {},
   "outputs": [],
   "source": [
    "holo.move_toward(speed, angle)\n",
    "time.sleep(1.0)\n",
    "holo.stop_all()"
   ]
  },
  {
   "cell_type": "code",
   "execution_count": 6,
   "metadata": {},
   "outputs": [],
   "source": [
    "speed = 20\n",
    "holo.control(0,0,speed)\n",
    "time.sleep(1)\n",
    "holo.stop_all()"
   ]
  },
  {
   "cell_type": "code",
   "execution_count": 7,
   "metadata": {},
   "outputs": [],
   "source": [
    "rot = 10\n",
    "holo.turn(rot)\n",
    "time.sleep(1)\n",
    "holo.stop_all()"
   ]
  },
  {
   "cell_type": "code",
   "execution_count": 8,
   "metadata": {},
   "outputs": [
    {
     "name": "stdout",
     "output_type": "stream",
     "text": [
      "42.70000076293945\n"
     ]
    }
   ],
   "source": [
    "d = holo.get_dist()\n",
    "print(d)"
   ]
  },
  {
   "cell_type": "code",
   "execution_count": 31,
   "metadata": {},
   "outputs": [
    {
     "name": "stdout",
     "output_type": "stream",
     "text": [
      "dist: 35.29999923706055cm\n",
      "dist: 35.5cm\n",
      "dist: 35.400001525878906cm\n",
      "dist: 35.70000076293945cm\n",
      "dist: 29.5cm\n",
      "dist: 24.299999237060547cm\n",
      "dist: 24.700000762939453cm\n",
      "dist: 24.5cm\n",
      "dist: 24.5cm\n",
      "dist: 24.5cm\n",
      "dist: 24.600000381469727cm\n",
      "dist: 24.600000381469727cm\n",
      "dist: 24.600000381469727cm\n",
      "bye bye...\n"
     ]
    }
   ],
   "source": [
    "while True:\n",
    "    try:\n",
    "        time.sleep(1)\n",
    "        d = holo.get_dist()\n",
    "        print(\"dist: \" + str(d) + \"cm\")\n",
    "    except KeyboardInterrupt:\n",
    "        print('done.')\n",
    "        break"
   ]
  },
  {
   "cell_type": "code",
   "execution_count": null,
   "metadata": {},
   "outputs": [],
   "source": []
  }
 ],
 "metadata": {
  "kernelspec": {
   "display_name": "Python 3",
   "language": "python",
   "name": "python3"
  },
  "language_info": {
   "codemirror_mode": {
    "name": "ipython",
    "version": 3
   },
   "file_extension": ".py",
   "mimetype": "text/x-python",
   "name": "python",
   "nbconvert_exporter": "python",
   "pygments_lexer": "ipython3",
   "version": "3.5.3"
  }
 },
 "nbformat": 4,
 "nbformat_minor": 2
}
